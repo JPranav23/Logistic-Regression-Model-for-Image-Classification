{
 "cells": [
  {
   "cell_type": "markdown",
   "metadata": {},
   "source": [
    "# Logistic Regression as a Single Neuran of a Neural Network\n",
    "\n",
    "Welcome to your first programming assignment! You will build a logistic regression classifier to recognize  cats. This assignment will step you through how to do this with a Neural Network mindset where logistic regression represents a single nueron. \n",
    "\n",
    "**Instructions:**\n",
    "- Do not use loops (for/while) in your code, unless the instructions explicitly ask you to do so.\n",
    "\n",
    "**You will learn to:**\n",
    "- Build the general architecture of a learning algorithm, including:\n",
    "    - Initializing parameters\n",
    "    - Calculating the cost function and its gradient\n",
    "    - Using an optimization algorithm (gradient descent) \n",
    "- Gather all three functions above into a main model function, in the right order."
   ]
  },
  {
   "cell_type": "markdown",
   "metadata": {},
   "source": [
    "## 1 -  Loading Packages ##\n",
    "First, let's run the cell below to import all the packages that you will need during this assignment. "
   ]
  },
  {
   "cell_type": "code",
   "execution_count": 80,
   "metadata": {},
   "outputs": [],
   "source": [
    "import numpy as np\n",
    "import matplotlib.pyplot as plt\n",
    "import h5py\n",
    "import scipy\n",
    "from PIL import Image\n",
    "from scipy import ndimage\n",
    "import glob\n",
    "from sklearn.model_selection import train_test_split\n",
    "from load_dataset import*\n",
    "%matplotlib inline"
   ]
  },
  {
   "cell_type": "markdown",
   "metadata": {},
   "source": [
    "## 2 - Utility functions to convert images into datasets ##\n",
    "The following functions are used to convert the cats and dogs images in the dataset folder into the numpy array format with labels. "
   ]
  },
  {
   "cell_type": "code",
   "execution_count": 81,
   "metadata": {},
   "outputs": [],
   "source": [
    "def convert_image_to_data(image, WIDTH, HEIGHT):\n",
    "    image_resized = Image.open(image).resize((WIDTH, HEIGHT))\n",
    "    image_array = np.array(image_resized).T\n",
    "    return image_array"
   ]
  },
  {
   "cell_type": "code",
   "execution_count": 82,
   "metadata": {},
   "outputs": [
    {
     "name": "stdout",
     "output_type": "stream",
     "text": [
      "yeah\n"
     ]
    }
   ],
   "source": [
    "\n",
    "def create_train_test_data(num_pix,test_size=0.2):\n",
    "    cat_files = glob.glob(\"datasets/cat*\")\n",
    "    dog_files = glob.glob(\"datasets/dog*\")\n",
    "\n",
    "    # Restrict cat and dog files here for testing\n",
    "    cat_list = [convert_image_to_data(i, num_pix, num_pix) for i in cat_files]\n",
    "    dog_list = [convert_image_to_data(i, num_pix, num_pix) for i in dog_files]\n",
    "\n",
    "    y_cat = np.zeros(len(cat_list))\n",
    "    y_dog = np.ones(len(dog_list))\n",
    "\n",
    "    X = np.concatenate([cat_list, dog_list])\n",
    "    X = np.concatenate([cat_list, dog_list])\n",
    "    y = np.concatenate([y_cat, y_dog])\n",
    "\n",
    "    X_train, X_test, y_train, y_test = train_test_split(X, y, test_size=0.2, random_state=1, stratify=y)\n",
    "    return X_train, X_test, y_train, y_test\n",
    "   "
   ]
  },
  {
   "cell_type": "markdown",
   "metadata": {},
   "source": [
    "### 2.1 - Load data set ###\n",
    "Use the utility functions provided above to load the train_set_x,train_set_y, test_set_x, test_set_y.\n",
    "Set the `num_pix` to 64 and keep the `test_size` as the default value."
   ]
  },
  {
   "cell_type": "code",
   "execution_count": 120,
   "metadata": {
    "scrolled": false
   },
   "outputs": [
    {
     "data": {
      "text/plain": [
       "'This is the code for Cat/Dog dataset\\n\\n# set the num_pix to 64\\nnum_pix = 64\\n# load the train_set_x_orig, test_set_x_orig, train_set_y, test_set_y\\nX_train, X_test, y_train, y_test = create_train_test_data(num_pix,test_size=0.2)\\n\\ntrain_set_x= X_train\\ntrain_set_y = y_train\\ntest_set_x = X_test\\ntest_set_y = y_test\\n\\n'"
      ]
     },
     "execution_count": 120,
     "metadata": {},
     "output_type": "execute_result"
    }
   ],
   "source": [
    "\"\"\"This is the code for Cat/Dog dataset\n",
    "\n",
    "# set the num_pix to 64\n",
    "num_pix = 64\n",
    "# load the train_set_x_orig, test_set_x_orig, train_set_y, test_set_y\n",
    "X_train, X_test, y_train, y_test = create_train_test_data(num_pix,test_size=0.2)\n",
    "\n",
    "train_set_x= X_train\n",
    "train_set_y = y_train\n",
    "test_set_x = X_test\n",
    "test_set_y = y_test\n",
    "\"\"\"\n",
    "\n",
    "# Set the value of num_pix\n",
    "num_pix = 64\n",
    "\n",
    "# Loading Dataset\n",
    "datasets = load_dataset(\"car_dataset.hdf5\")\n",
    "\n",
    "#training data\n",
    "x = np.array(datasets[\"train\"][\"X\"])\n",
    "y = np.array(datasets[\"train\"][\"Y\"])\n",
    "\n",
    "#testing\n",
    "x1 = np.array(datasets[\"dev\"][\"X\"])\n",
    "y1 = np.array(datasets[\"dev\"][\"Y\"])\n"
   ]
  },
  {
   "cell_type": "markdown",
   "metadata": {},
   "source": [
    "#### 2.1.1 - Print the shapes ###\n",
    "Print the shape of the following variables\n",
    "- Number of training examples: m_train\n",
    "- Number of testing examples: m_test\n",
    "- Height/Width of each image: num_px\n",
    "- train_set_x shape\n",
    "- train_set_y shape\n",
    "- test_set_x shape\n",
    "- test_set_y shape"
   ]
  },
  {
   "cell_type": "code",
   "execution_count": 121,
   "metadata": {},
   "outputs": [
    {
     "name": "stdout",
     "output_type": "stream",
     "text": [
      "Number of training examples:  517\n",
      "Number of testing examples:  172\n",
      "(517, 64, 64, 3)\n",
      "Height/Width of each image: 64\n",
      "(517,)\n",
      "(172, 64, 64, 3)\n",
      "(172,)\n"
     ]
    }
   ],
   "source": [
    "\n",
    "\n",
    "\"\"\" This is for cat dog dataset\n",
    "\n",
    "print(\"Number of training examples: \", train_set_x.shape[0])\n",
    "print(\"Number of testing examples: \", test_set_x.shape[0])\n",
    "print(\"Height/Width of each image:\", num_pix)\n",
    "print(train_set_x.shape)\n",
    "print(train_set_y.shape)\n",
    "print(test_set_x.shape)\n",
    "print(test_set_y.shape)\n",
    "\"\"\"\n",
    "num_pix = 64\n",
    "print(\"Number of training examples: \", x.shape[0])\n",
    "print(\"Number of testing examples: \", x1.shape[0])\n",
    "print(\"Height/Width of each image:\", num_pix)\n",
    "print (x.shape)\n",
    "print (y.shape)\n",
    "print (x1.shape)\n",
    "print (y1.shape)\n"
   ]
  },
  {
   "cell_type": "markdown",
   "metadata": {},
   "source": [
    "#### 2.1.2 - Fixing ill-shape vectors ####\n",
    "It is possible that the train_set_y and test_set_y have an ill-shape. Fix these shapes so the train_set_y and test_set_y are represented as a matrix with size (1, number of examples)"
   ]
  },
  {
   "cell_type": "code",
   "execution_count": 122,
   "metadata": {},
   "outputs": [
    {
     "name": "stdout",
     "output_type": "stream",
     "text": [
      "train_set_y_f shape: (1, 517)\n",
      "test_set_y_f shape: (1, 172)\n"
     ]
    }
   ],
   "source": [
    "# your code here <begin>\n",
    "flat_y = y.reshape(y.shape[0], -1).T\n",
    "flat_y1 = y1.reshape(y1.shape[0], -1).T\n",
    "\n",
    "train_set_yc = flat_y\n",
    "test_set_yc = flat_y1\n",
    "\n",
    "# Cat/Dog dataset\n",
    "#train_set_y_f = train_set_y.reshape(train_set_y.shape[0], -1).T\n",
    "#test_set_y_f = test_set_y.reshape(test_set_y.shape[0], -1).T\n",
    "# your code here <end>\n",
    "\n",
    "print (\"train_set_y_f shape: \" + str(flat_y.shape))\n",
    "print (\"test_set_y_f shape: \" + str(flat_y1.shape))"
   ]
  },
  {
   "cell_type": "markdown",
   "metadata": {},
   "source": [
    "### 2.2 - Flatten the data\n",
    "Reshape the training and test data sets so that each image is flattened into single vectors of shape (num_px  ∗ num_px  ∗ 3, 1). Check the shapes for train_set_x_flatten and test_set_x_flatten."
   ]
  },
  {
   "cell_type": "code",
   "execution_count": 123,
   "metadata": {},
   "outputs": [
    {
     "name": "stdout",
     "output_type": "stream",
     "text": [
      "train_set_x shape: (12288, 517)\n",
      "test_set_x shape: (12288, 172)\n"
     ]
    }
   ],
   "source": [
    "flat_x = x.reshape(x.shape[0], -1).T\n",
    "flat_x1 = x1.reshape(x1.shape[0], -1).T\n",
    "\n",
    "#train_set_x_f = train_set_x.reshape(train_set_x.shape[0], -1).T\n",
    "#test_set_x_f = test_set_x.reshape(test_set_x.shape[0], -1).T\n",
    "\n",
    "print (\"train_set_x shape: \" + str(flat_x.shape))\n",
    "print (\"test_set_x shape: \" + str(flat_x1.shape))"
   ]
  },
  {
   "cell_type": "markdown",
   "metadata": {},
   "source": [
    "### 2.3 - Standardize the data\n",
    "Divide every row of the dataset by 255 "
   ]
  },
  {
   "cell_type": "code",
   "execution_count": 124,
   "metadata": {},
   "outputs": [],
   "source": [
    "\n",
    "train_set_xc = flat_x/255\n",
    "test_set_xc = flat_x1/255"
   ]
  },
  {
   "cell_type": "markdown",
   "metadata": {},
   "source": [
    "## 3 - Implementing the Helper Functions ## \n",
    "\n",
    "### 3.1 - Sigmoid function\n",
    "Implement `sigmoid()`. "
   ]
  },
  {
   "cell_type": "code",
   "execution_count": 108,
   "metadata": {},
   "outputs": [],
   "source": [
    "def sigmoid(z):\n",
    "    \n",
    "\n",
    "    s = 1/(1+ np.exp(-z))\n",
    "    return s"
   ]
  },
  {
   "cell_type": "markdown",
   "metadata": {},
   "source": [
    "### 3.2 - Implement initialize_with_zeros\n",
    "Write a function that initializes initialize w as a vector of zeros and set `b` to zero. "
   ]
  },
  {
   "cell_type": "code",
   "execution_count": 109,
   "metadata": {},
   "outputs": [],
   "source": [
    "def initialize_with_zeros(dim):\n",
    "     \n",
    "    w = np.zeros(shape=(dim,1))\n",
    "    b = 0.0\n",
    "   \n",
    "    assert(w.shape == (dim, 1))\n",
    "    assert(isinstance(b, float) or isinstance(b, int))\n",
    "    \n",
    "    return w, b"
   ]
  },
  {
   "cell_type": "markdown",
   "metadata": {},
   "source": [
    "### 3.3 - Forward propagation\n",
    "\n",
    "Implement forward propagation to calculate $A$ and cost.\n",
    "\n",
    "Forward Propagation:\n",
    "- You get X\n",
    "- You compute $A = \\sigma(w^T X + b) = (a^{(0)}, a^{(1)}, ..., a^{(m-1)}, a^{(m)})$\n",
    "- You calculate the cost function: $J = -\\frac{1}{m}\\sum_{i=1}^{m}y^{(i)}\\log(a^{(i)})+(1-y^{(i)})\\log(1-a^{(i)})$\n"
   ]
  },
  {
   "cell_type": "code",
   "execution_count": 110,
   "metadata": {},
   "outputs": [],
   "source": [
    "def forward_propogation(w,b,X,Y) :\n",
    "    \n",
    "    m = X.shape[1]  \n",
    "   \n",
    "    Z= np.dot(w.T,X)+b\n",
    "    A = sigmoid(Z)     \n",
    "    cost = (-1/m) * np.sum(Y* np.log(A)+ (1- Y) * np.log(1-A))  \n",
    "    cost = np.squeeze(cost)\n",
    "    assert(cost.shape == ())\n",
    "    \n",
    "    return cost,A,m"
   ]
  },
  {
   "cell_type": "markdown",
   "metadata": {},
   "source": [
    "### 3.4 - Backward propagation\n",
    "\n",
    "Implement backward propagation to compute gradients $dw$ and $db$\n",
    "Here are the two formulas you will be using: \n",
    "\n",
    "$$ dw = \\frac{\\partial J}{\\partial w} = \\frac{1}{m}X(A-Y)^T\\tag{7}$$\n",
    "$$ db = \\frac{\\partial J}{\\partial b} = \\frac{1}{m} \\sum_{i=1}^m (a^{(i)}-y^{(i)})\\tag{8}$$"
   ]
  },
  {
   "cell_type": "code",
   "execution_count": 111,
   "metadata": {},
   "outputs": [],
   "source": [
    "def backward_propogation(w,b,X,Y) :\n",
    "    m = X.shape[1]  \n",
    "    Z= np.dot(w.T,X)+b\n",
    "    A = sigmoid(Z) \n",
    "    #A = forward_propogation(w,b,X,Y)\n",
    "    dz = A - Y\n",
    "    dw = (1/m) * np.dot(X,dz.T)\n",
    "    db = (1/m) * np.sum(dz)\n",
    "    \n",
    "    assert(dw.shape == w.shape)\n",
    "    assert(db.dtype == float)\n",
    "    \n",
    "    return dw,db"
   ]
  },
  {
   "cell_type": "markdown",
   "metadata": {},
   "source": [
    "### 3.5 - Optimization\n",
    "- You have initialized your parameters.\n",
    "- You are also able to compute a cost function and its gradient.\n",
    "- Now, you want to update the parameters using gradient descent.\n",
    "\n",
    "Write down the optimization function. The goal is to learn $w$ and $b$ by minimizing the cost function $J$. "
   ]
  },
  {
   "cell_type": "code",
   "execution_count": 112,
   "metadata": {},
   "outputs": [],
   "source": [
    "def optimize(w, b, X, Y, num_iterations, learning_rate, print_cost= False) :\n",
    "    \n",
    "    costs = []\n",
    "    for i in range(num_iterations) :\n",
    "\n",
    "        cost,A,m = forward_propogation(w,b,X,Y)\n",
    "        dw,db = backward_propogation(w,b,X,Y)\n",
    "\n",
    "        w = w-learning_rate*dw\n",
    "        b = b-learning_rate*db\n",
    "\n",
    "        if i % 100 == 0:\n",
    "                costs.append(cost)\n",
    "\n",
    "        if print_cost and i % 100 == 0:\n",
    "                print (\"Cost after iteration %i: %f\" %(i,cost))\n",
    "\n",
    "    return dw,db,w,b,costs\n",
    "    "
   ]
  },
  {
   "cell_type": "markdown",
   "metadata": {},
   "source": [
    "### 3.6 - Prediction\n",
    "\n",
    "Implement the `predict()` function. There is two steps to computing predictions:\n",
    "\n",
    "1. Calculate $\\hat{Y} = A = \\sigma(w^T X + b)$\n",
    "\n",
    "2. Convert the entries of a into 0 (if activation <= 0.5) or 1 (if activation > 0.5), stores the predictions in a vector `Y_prediction`. If you wish, you can use an `if`/`else` statement in a `for` loop (though there is also a way to vectorize this). "
   ]
  },
  {
   "cell_type": "code",
   "execution_count": 113,
   "metadata": {},
   "outputs": [],
   "source": [
    "def predict(w, b, X_test):\n",
    "    \n",
    "    m = X_test.shape[1]\n",
    "    w = w.reshape(X_test.shape[0], 1)\n",
    "    Z= np.dot(w.T,X_test) + b\n",
    "    A = sigmoid(Z)\n",
    "    Y_prediction = np.around(A)\n",
    "    assert(Y_prediction.shape == (1, m))\n",
    "    \n",
    "    return Y_prediction"
   ]
  },
  {
   "cell_type": "markdown",
   "metadata": {},
   "source": [
    "## 4 - Regression Model ##\n",
    "Implement the model function. Use the following notation:\n",
    "    - Y_prediction for your predictions on the test set\n",
    "    - Y_prediction_train for your predictions on the train set\n",
    "    - w, costs, grads for the outputs of optimize()"
   ]
  },
  {
   "cell_type": "code",
   "execution_count": 114,
   "metadata": {},
   "outputs": [],
   "source": [
    "def model(X_train, Y_train, X_test, Y_test, num_iterations = 2000, learning_rate = 0.5, print_cost = False):\n",
    "       \n",
    "    # initialize parameters with zeros (≈ 1 line of code)\n",
    "    n = X_train.shape[0]\n",
    "    w, b = initialize_with_zeros(dim=n)\n",
    "    \n",
    "    # Gradient descent (≈ 1 line of code)\n",
    "    dw,db,w,b,costs = optimize(w, b, X_train, Y_train, num_iterations, learning_rate, print_cost)\n",
    "    \n",
    "    # Predict test/train set examples (≈ 2 lines of code)\n",
    "    Y_prediction_test = predict(w,b,X_test)\n",
    "    Y_prediction_train = predict(w,b,X_train)\n",
    "\n",
    "    # Print train/test Errors\n",
    "    print(\"train accuracy: {} %\".format(100 - np.mean(np.abs(Y_prediction_train - Y_train)) * 100))\n",
    "    print(\"test accuracy: {} %\".format(100 - np.mean(np.abs(Y_prediction_test - Y_test)) * 100))\n",
    "\n",
    "    d = {\"costs\": costs,\n",
    "         \"Y_prediction_test\": Y_prediction_test, \n",
    "         \"Y_prediction_train\" : Y_prediction_train, \n",
    "         \"w\" : w, \n",
    "         \"b\" : b,\n",
    "         \"learning_rate\" : learning_rate,\n",
    "         \"num_iterations\": num_iterations}\n",
    "    \n",
    "    return d\n",
    "    "
   ]
  },
  {
   "cell_type": "markdown",
   "metadata": {},
   "source": [
    "## 5. Run the regression model function to train your model.\n",
    "### 5.1 - Setting parameters (part 1)\n",
    "Set the `num_iterations` to 5000 and `learning_rate` to 0.0005"
   ]
  },
  {
   "cell_type": "code",
   "execution_count": 95,
   "metadata": {},
   "outputs": [
    {
     "name": "stdout",
     "output_type": "stream",
     "text": [
      "(12288, 517)\n",
      "(1, 517)\n",
      "(12288, 173)\n",
      "(1, 173)\n",
      "Cost after iteration 0: 0.693147\n",
      "Cost after iteration 100: 0.548509\n",
      "Cost after iteration 200: 0.496297\n",
      "Cost after iteration 300: 0.459536\n",
      "Cost after iteration 400: 0.432244\n",
      "Cost after iteration 500: 0.411066\n",
      "Cost after iteration 600: 0.394034\n",
      "Cost after iteration 700: 0.379940\n",
      "Cost after iteration 800: 0.368004\n",
      "Cost after iteration 900: 0.357705\n",
      "Cost after iteration 1000: 0.348679\n",
      "Cost after iteration 1100: 0.340667\n",
      "Cost after iteration 1200: 0.333477\n",
      "Cost after iteration 1300: 0.326965\n",
      "Cost after iteration 1400: 0.321019\n",
      "Cost after iteration 1500: 0.315553\n",
      "Cost after iteration 1600: 0.310498\n",
      "Cost after iteration 1700: 0.305796\n",
      "Cost after iteration 1800: 0.301404\n",
      "Cost after iteration 1900: 0.297283\n",
      "Cost after iteration 2000: 0.293401\n",
      "Cost after iteration 2100: 0.289732\n",
      "Cost after iteration 2200: 0.286254\n",
      "Cost after iteration 2300: 0.282948\n",
      "Cost after iteration 2400: 0.279796\n",
      "Cost after iteration 2500: 0.276785\n",
      "Cost after iteration 2600: 0.273902\n",
      "Cost after iteration 2700: 0.271136\n",
      "Cost after iteration 2800: 0.268477\n",
      "Cost after iteration 2900: 0.265917\n",
      "Cost after iteration 3000: 0.263449\n",
      "Cost after iteration 3100: 0.261066\n",
      "Cost after iteration 3200: 0.258761\n",
      "Cost after iteration 3300: 0.256529\n",
      "Cost after iteration 3400: 0.254366\n",
      "Cost after iteration 3500: 0.252267\n",
      "Cost after iteration 3600: 0.250228\n",
      "Cost after iteration 3700: 0.248245\n",
      "Cost after iteration 3800: 0.246316\n",
      "Cost after iteration 3900: 0.244436\n",
      "Cost after iteration 4000: 0.242604\n",
      "Cost after iteration 4100: 0.240816\n",
      "Cost after iteration 4200: 0.239071\n",
      "Cost after iteration 4300: 0.237366\n",
      "Cost after iteration 4400: 0.235700\n",
      "Cost after iteration 4500: 0.234070\n",
      "Cost after iteration 4600: 0.232474\n",
      "Cost after iteration 4700: 0.230912\n",
      "Cost after iteration 4800: 0.229381\n",
      "Cost after iteration 4900: 0.227881\n",
      "train accuracy: 92.06963249516441 %\n",
      "test accuracy: 87.28323699421965 %\n"
     ]
    },
    {
     "ename": "TypeError",
     "evalue": "float() argument must be a string or a number, not 'dict'",
     "output_type": "error",
     "traceback": [
      "\u001b[1;31m---------------------------------------------------------------------------\u001b[0m",
      "\u001b[1;31mTypeError\u001b[0m                                 Traceback (most recent call last)",
      "\u001b[1;32m<ipython-input-95-9e0c617331cc>\u001b[0m in \u001b[0;36m<module>\u001b[1;34m\u001b[0m\n\u001b[0;32m     34\u001b[0m \u001b[0mcosts\u001b[0m\u001b[1;33m=\u001b[0m \u001b[0mmodel\u001b[0m\u001b[1;33m(\u001b[0m\u001b[0mtrainsetxc1\u001b[0m\u001b[1;33m,\u001b[0m \u001b[0mtrainsetyc1\u001b[0m\u001b[1;33m,\u001b[0m \u001b[0mtestsetxc1\u001b[0m\u001b[1;33m,\u001b[0m \u001b[0mtestsetyc1\u001b[0m\u001b[1;33m,\u001b[0m  \u001b[0mnum_iterations\u001b[0m \u001b[1;33m=\u001b[0m \u001b[1;36m5000\u001b[0m\u001b[1;33m,\u001b[0m \u001b[0mlearning_rate\u001b[0m \u001b[1;33m=\u001b[0m \u001b[1;36m0.0005\u001b[0m\u001b[1;33m,\u001b[0m \u001b[0mprint_cost\u001b[0m \u001b[1;33m=\u001b[0m \u001b[1;32mTrue\u001b[0m\u001b[1;33m)\u001b[0m\u001b[1;33m\u001b[0m\u001b[1;33m\u001b[0m\u001b[0m\n\u001b[0;32m     35\u001b[0m \u001b[1;33m\u001b[0m\u001b[0m\n\u001b[1;32m---> 36\u001b[1;33m \u001b[0mplt\u001b[0m\u001b[1;33m.\u001b[0m\u001b[0mplot\u001b[0m\u001b[1;33m(\u001b[0m\u001b[0mcosts\u001b[0m\u001b[1;33m)\u001b[0m\u001b[1;33m\u001b[0m\u001b[1;33m\u001b[0m\u001b[0m\n\u001b[0m\u001b[0;32m     37\u001b[0m \u001b[1;33m\u001b[0m\u001b[0m\n\u001b[0;32m     38\u001b[0m \u001b[1;33m\u001b[0m\u001b[0m\n",
      "\u001b[1;32m~\\Anaconda3\\envs\\deeplearning\\lib\\site-packages\\matplotlib\\pyplot.py\u001b[0m in \u001b[0;36mplot\u001b[1;34m(scalex, scaley, data, *args, **kwargs)\u001b[0m\n\u001b[0;32m   2811\u001b[0m     return gca().plot(\n\u001b[0;32m   2812\u001b[0m         *args, scalex=scalex, scaley=scaley, **({\"data\": data} if data\n\u001b[1;32m-> 2813\u001b[1;33m         is not None else {}), **kwargs)\n\u001b[0m\u001b[0;32m   2814\u001b[0m \u001b[1;33m\u001b[0m\u001b[0m\n\u001b[0;32m   2815\u001b[0m \u001b[1;33m\u001b[0m\u001b[0m\n",
      "\u001b[1;32m~\\Anaconda3\\envs\\deeplearning\\lib\\site-packages\\matplotlib\\__init__.py\u001b[0m in \u001b[0;36minner\u001b[1;34m(ax, data, *args, **kwargs)\u001b[0m\n\u001b[0;32m   1808\u001b[0m                         \u001b[1;34m\"the Matplotlib list!)\"\u001b[0m \u001b[1;33m%\u001b[0m \u001b[1;33m(\u001b[0m\u001b[0mlabel_namer\u001b[0m\u001b[1;33m,\u001b[0m \u001b[0mfunc\u001b[0m\u001b[1;33m.\u001b[0m\u001b[0m__name__\u001b[0m\u001b[1;33m)\u001b[0m\u001b[1;33m,\u001b[0m\u001b[1;33m\u001b[0m\u001b[1;33m\u001b[0m\u001b[0m\n\u001b[0;32m   1809\u001b[0m                         RuntimeWarning, stacklevel=2)\n\u001b[1;32m-> 1810\u001b[1;33m             \u001b[1;32mreturn\u001b[0m \u001b[0mfunc\u001b[0m\u001b[1;33m(\u001b[0m\u001b[0max\u001b[0m\u001b[1;33m,\u001b[0m \u001b[1;33m*\u001b[0m\u001b[0margs\u001b[0m\u001b[1;33m,\u001b[0m \u001b[1;33m**\u001b[0m\u001b[0mkwargs\u001b[0m\u001b[1;33m)\u001b[0m\u001b[1;33m\u001b[0m\u001b[1;33m\u001b[0m\u001b[0m\n\u001b[0m\u001b[0;32m   1811\u001b[0m \u001b[1;33m\u001b[0m\u001b[0m\n\u001b[0;32m   1812\u001b[0m         inner.__doc__ = _add_data_doc(inner.__doc__,\n",
      "\u001b[1;32m~\\Anaconda3\\envs\\deeplearning\\lib\\site-packages\\matplotlib\\axes\\_axes.py\u001b[0m in \u001b[0;36mplot\u001b[1;34m(self, scalex, scaley, *args, **kwargs)\u001b[0m\n\u001b[0;32m   1610\u001b[0m \u001b[1;33m\u001b[0m\u001b[0m\n\u001b[0;32m   1611\u001b[0m         \u001b[1;32mfor\u001b[0m \u001b[0mline\u001b[0m \u001b[1;32min\u001b[0m \u001b[0mself\u001b[0m\u001b[1;33m.\u001b[0m\u001b[0m_get_lines\u001b[0m\u001b[1;33m(\u001b[0m\u001b[1;33m*\u001b[0m\u001b[0margs\u001b[0m\u001b[1;33m,\u001b[0m \u001b[1;33m**\u001b[0m\u001b[0mkwargs\u001b[0m\u001b[1;33m)\u001b[0m\u001b[1;33m:\u001b[0m\u001b[1;33m\u001b[0m\u001b[1;33m\u001b[0m\u001b[0m\n\u001b[1;32m-> 1612\u001b[1;33m             \u001b[0mself\u001b[0m\u001b[1;33m.\u001b[0m\u001b[0madd_line\u001b[0m\u001b[1;33m(\u001b[0m\u001b[0mline\u001b[0m\u001b[1;33m)\u001b[0m\u001b[1;33m\u001b[0m\u001b[1;33m\u001b[0m\u001b[0m\n\u001b[0m\u001b[0;32m   1613\u001b[0m             \u001b[0mlines\u001b[0m\u001b[1;33m.\u001b[0m\u001b[0mappend\u001b[0m\u001b[1;33m(\u001b[0m\u001b[0mline\u001b[0m\u001b[1;33m)\u001b[0m\u001b[1;33m\u001b[0m\u001b[1;33m\u001b[0m\u001b[0m\n\u001b[0;32m   1614\u001b[0m \u001b[1;33m\u001b[0m\u001b[0m\n",
      "\u001b[1;32m~\\Anaconda3\\envs\\deeplearning\\lib\\site-packages\\matplotlib\\axes\\_base.py\u001b[0m in \u001b[0;36madd_line\u001b[1;34m(self, line)\u001b[0m\n\u001b[0;32m   1893\u001b[0m             \u001b[0mline\u001b[0m\u001b[1;33m.\u001b[0m\u001b[0mset_clip_path\u001b[0m\u001b[1;33m(\u001b[0m\u001b[0mself\u001b[0m\u001b[1;33m.\u001b[0m\u001b[0mpatch\u001b[0m\u001b[1;33m)\u001b[0m\u001b[1;33m\u001b[0m\u001b[1;33m\u001b[0m\u001b[0m\n\u001b[0;32m   1894\u001b[0m \u001b[1;33m\u001b[0m\u001b[0m\n\u001b[1;32m-> 1895\u001b[1;33m         \u001b[0mself\u001b[0m\u001b[1;33m.\u001b[0m\u001b[0m_update_line_limits\u001b[0m\u001b[1;33m(\u001b[0m\u001b[0mline\u001b[0m\u001b[1;33m)\u001b[0m\u001b[1;33m\u001b[0m\u001b[1;33m\u001b[0m\u001b[0m\n\u001b[0m\u001b[0;32m   1896\u001b[0m         \u001b[1;32mif\u001b[0m \u001b[1;32mnot\u001b[0m \u001b[0mline\u001b[0m\u001b[1;33m.\u001b[0m\u001b[0mget_label\u001b[0m\u001b[1;33m(\u001b[0m\u001b[1;33m)\u001b[0m\u001b[1;33m:\u001b[0m\u001b[1;33m\u001b[0m\u001b[1;33m\u001b[0m\u001b[0m\n\u001b[0;32m   1897\u001b[0m             \u001b[0mline\u001b[0m\u001b[1;33m.\u001b[0m\u001b[0mset_label\u001b[0m\u001b[1;33m(\u001b[0m\u001b[1;34m'_line%d'\u001b[0m \u001b[1;33m%\u001b[0m \u001b[0mlen\u001b[0m\u001b[1;33m(\u001b[0m\u001b[0mself\u001b[0m\u001b[1;33m.\u001b[0m\u001b[0mlines\u001b[0m\u001b[1;33m)\u001b[0m\u001b[1;33m)\u001b[0m\u001b[1;33m\u001b[0m\u001b[1;33m\u001b[0m\u001b[0m\n",
      "\u001b[1;32m~\\Anaconda3\\envs\\deeplearning\\lib\\site-packages\\matplotlib\\axes\\_base.py\u001b[0m in \u001b[0;36m_update_line_limits\u001b[1;34m(self, line)\u001b[0m\n\u001b[0;32m   1915\u001b[0m         \u001b[0mFigures\u001b[0m \u001b[0mout\u001b[0m \u001b[0mthe\u001b[0m \u001b[0mdata\u001b[0m \u001b[0mlimit\u001b[0m \u001b[0mof\u001b[0m \u001b[0mthe\u001b[0m \u001b[0mgiven\u001b[0m \u001b[0mline\u001b[0m\u001b[1;33m,\u001b[0m \u001b[0mupdating\u001b[0m \u001b[0mself\u001b[0m\u001b[1;33m.\u001b[0m\u001b[0mdataLim\u001b[0m\u001b[1;33m.\u001b[0m\u001b[1;33m\u001b[0m\u001b[1;33m\u001b[0m\u001b[0m\n\u001b[0;32m   1916\u001b[0m         \"\"\"\n\u001b[1;32m-> 1917\u001b[1;33m         \u001b[0mpath\u001b[0m \u001b[1;33m=\u001b[0m \u001b[0mline\u001b[0m\u001b[1;33m.\u001b[0m\u001b[0mget_path\u001b[0m\u001b[1;33m(\u001b[0m\u001b[1;33m)\u001b[0m\u001b[1;33m\u001b[0m\u001b[1;33m\u001b[0m\u001b[0m\n\u001b[0m\u001b[0;32m   1918\u001b[0m         \u001b[1;32mif\u001b[0m \u001b[0mpath\u001b[0m\u001b[1;33m.\u001b[0m\u001b[0mvertices\u001b[0m\u001b[1;33m.\u001b[0m\u001b[0msize\u001b[0m \u001b[1;33m==\u001b[0m \u001b[1;36m0\u001b[0m\u001b[1;33m:\u001b[0m\u001b[1;33m\u001b[0m\u001b[1;33m\u001b[0m\u001b[0m\n\u001b[0;32m   1919\u001b[0m             \u001b[1;32mreturn\u001b[0m\u001b[1;33m\u001b[0m\u001b[1;33m\u001b[0m\u001b[0m\n",
      "\u001b[1;32m~\\Anaconda3\\envs\\deeplearning\\lib\\site-packages\\matplotlib\\lines.py\u001b[0m in \u001b[0;36mget_path\u001b[1;34m(self)\u001b[0m\n\u001b[0;32m    943\u001b[0m         \"\"\"\n\u001b[0;32m    944\u001b[0m         \u001b[1;32mif\u001b[0m \u001b[0mself\u001b[0m\u001b[1;33m.\u001b[0m\u001b[0m_invalidy\u001b[0m \u001b[1;32mor\u001b[0m \u001b[0mself\u001b[0m\u001b[1;33m.\u001b[0m\u001b[0m_invalidx\u001b[0m\u001b[1;33m:\u001b[0m\u001b[1;33m\u001b[0m\u001b[1;33m\u001b[0m\u001b[0m\n\u001b[1;32m--> 945\u001b[1;33m             \u001b[0mself\u001b[0m\u001b[1;33m.\u001b[0m\u001b[0mrecache\u001b[0m\u001b[1;33m(\u001b[0m\u001b[1;33m)\u001b[0m\u001b[1;33m\u001b[0m\u001b[1;33m\u001b[0m\u001b[0m\n\u001b[0m\u001b[0;32m    946\u001b[0m         \u001b[1;32mreturn\u001b[0m \u001b[0mself\u001b[0m\u001b[1;33m.\u001b[0m\u001b[0m_path\u001b[0m\u001b[1;33m\u001b[0m\u001b[1;33m\u001b[0m\u001b[0m\n\u001b[0;32m    947\u001b[0m \u001b[1;33m\u001b[0m\u001b[0m\n",
      "\u001b[1;32m~\\Anaconda3\\envs\\deeplearning\\lib\\site-packages\\matplotlib\\lines.py\u001b[0m in \u001b[0;36mrecache\u001b[1;34m(self, always)\u001b[0m\n\u001b[0;32m    643\u001b[0m         \u001b[1;32mif\u001b[0m \u001b[0malways\u001b[0m \u001b[1;32mor\u001b[0m \u001b[0mself\u001b[0m\u001b[1;33m.\u001b[0m\u001b[0m_invalidy\u001b[0m\u001b[1;33m:\u001b[0m\u001b[1;33m\u001b[0m\u001b[1;33m\u001b[0m\u001b[0m\n\u001b[0;32m    644\u001b[0m             \u001b[0myconv\u001b[0m \u001b[1;33m=\u001b[0m \u001b[0mself\u001b[0m\u001b[1;33m.\u001b[0m\u001b[0mconvert_yunits\u001b[0m\u001b[1;33m(\u001b[0m\u001b[0mself\u001b[0m\u001b[1;33m.\u001b[0m\u001b[0m_yorig\u001b[0m\u001b[1;33m)\u001b[0m\u001b[1;33m\u001b[0m\u001b[1;33m\u001b[0m\u001b[0m\n\u001b[1;32m--> 645\u001b[1;33m             \u001b[0my\u001b[0m \u001b[1;33m=\u001b[0m \u001b[0m_to_unmasked_float_array\u001b[0m\u001b[1;33m(\u001b[0m\u001b[0myconv\u001b[0m\u001b[1;33m)\u001b[0m\u001b[1;33m.\u001b[0m\u001b[0mravel\u001b[0m\u001b[1;33m(\u001b[0m\u001b[1;33m)\u001b[0m\u001b[1;33m\u001b[0m\u001b[1;33m\u001b[0m\u001b[0m\n\u001b[0m\u001b[0;32m    646\u001b[0m         \u001b[1;32melse\u001b[0m\u001b[1;33m:\u001b[0m\u001b[1;33m\u001b[0m\u001b[1;33m\u001b[0m\u001b[0m\n\u001b[0;32m    647\u001b[0m             \u001b[0my\u001b[0m \u001b[1;33m=\u001b[0m \u001b[0mself\u001b[0m\u001b[1;33m.\u001b[0m\u001b[0m_y\u001b[0m\u001b[1;33m\u001b[0m\u001b[1;33m\u001b[0m\u001b[0m\n",
      "\u001b[1;32m~\\Anaconda3\\envs\\deeplearning\\lib\\site-packages\\matplotlib\\cbook\\__init__.py\u001b[0m in \u001b[0;36m_to_unmasked_float_array\u001b[1;34m(x)\u001b[0m\n\u001b[0;32m   1363\u001b[0m         \u001b[1;32mreturn\u001b[0m \u001b[0mnp\u001b[0m\u001b[1;33m.\u001b[0m\u001b[0mma\u001b[0m\u001b[1;33m.\u001b[0m\u001b[0masarray\u001b[0m\u001b[1;33m(\u001b[0m\u001b[0mx\u001b[0m\u001b[1;33m,\u001b[0m \u001b[0mfloat\u001b[0m\u001b[1;33m)\u001b[0m\u001b[1;33m.\u001b[0m\u001b[0mfilled\u001b[0m\u001b[1;33m(\u001b[0m\u001b[0mnp\u001b[0m\u001b[1;33m.\u001b[0m\u001b[0mnan\u001b[0m\u001b[1;33m)\u001b[0m\u001b[1;33m\u001b[0m\u001b[1;33m\u001b[0m\u001b[0m\n\u001b[0;32m   1364\u001b[0m     \u001b[1;32melse\u001b[0m\u001b[1;33m:\u001b[0m\u001b[1;33m\u001b[0m\u001b[1;33m\u001b[0m\u001b[0m\n\u001b[1;32m-> 1365\u001b[1;33m         \u001b[1;32mreturn\u001b[0m \u001b[0mnp\u001b[0m\u001b[1;33m.\u001b[0m\u001b[0masarray\u001b[0m\u001b[1;33m(\u001b[0m\u001b[0mx\u001b[0m\u001b[1;33m,\u001b[0m \u001b[0mfloat\u001b[0m\u001b[1;33m)\u001b[0m\u001b[1;33m\u001b[0m\u001b[1;33m\u001b[0m\u001b[0m\n\u001b[0m\u001b[0;32m   1366\u001b[0m \u001b[1;33m\u001b[0m\u001b[0m\n\u001b[0;32m   1367\u001b[0m \u001b[1;33m\u001b[0m\u001b[0m\n",
      "\u001b[1;32m~\\Anaconda3\\envs\\deeplearning\\lib\\site-packages\\numpy\\core\\numeric.py\u001b[0m in \u001b[0;36masarray\u001b[1;34m(a, dtype, order)\u001b[0m\n\u001b[0;32m    499\u001b[0m \u001b[1;33m\u001b[0m\u001b[0m\n\u001b[0;32m    500\u001b[0m     \"\"\"\n\u001b[1;32m--> 501\u001b[1;33m     \u001b[1;32mreturn\u001b[0m \u001b[0marray\u001b[0m\u001b[1;33m(\u001b[0m\u001b[0ma\u001b[0m\u001b[1;33m,\u001b[0m \u001b[0mdtype\u001b[0m\u001b[1;33m,\u001b[0m \u001b[0mcopy\u001b[0m\u001b[1;33m=\u001b[0m\u001b[1;32mFalse\u001b[0m\u001b[1;33m,\u001b[0m \u001b[0morder\u001b[0m\u001b[1;33m=\u001b[0m\u001b[0morder\u001b[0m\u001b[1;33m)\u001b[0m\u001b[1;33m\u001b[0m\u001b[1;33m\u001b[0m\u001b[0m\n\u001b[0m\u001b[0;32m    502\u001b[0m \u001b[1;33m\u001b[0m\u001b[0m\n\u001b[0;32m    503\u001b[0m \u001b[1;33m\u001b[0m\u001b[0m\n",
      "\u001b[1;31mTypeError\u001b[0m: float() argument must be a string or a number, not 'dict'"
     ]
    },
    {
     "data": {
      "image/png": "[encoded data removed]",
      "text/plain": [
       "<Figure size 432x288 with 1 Axes>"
      ]
     },
     "metadata": {
      "needs_background": "light"
     },
     "output_type": "display_data"
    }
   ],
   "source": [
    "\n",
    "#Testing with the 'dev' as the test set\n",
    "\n",
    "#Testing_mod= model(trainsetxc, trainsetyc, testsetxc, testsetyc,  num_iterations = 5000, learning_rate = 0.0005, print_cost = False)\n",
    "\n",
    "# Testing with the 'test' as the test set [Also doing some preprocessing]\n",
    "x = np.array(datasets[\"train\"][\"X\"])\n",
    "flat_x = x.reshape(x.shape[0], -1).T\n",
    "train_set_xc1 = flat_x/255\n",
    "print (train_set_xc1.shape)\n",
    "\n",
    "y = np.array(datasets[\"train\"][\"Y\"])\n",
    "flat_y = y.reshape(y.shape[0], -1).T\n",
    "train_set_yc1 = flat_y\n",
    "print (train_set_yc1.shape)\n",
    "\n",
    "\n",
    "x1 = np.array(datasets[\"test\"][\"X\"])\n",
    "flat_x1 = x1.reshape(x1.shape[0], -1).T\n",
    "test_set_xc1 = flat_x1/255\n",
    "print (test_set_xc1.shape)\n",
    "\n",
    "y1 = np.array(datasets[\"test\"][\"Y\"])\n",
    "flat_y1 = y1.reshape(y1.shape[0], -1).T\n",
    "test_set_yc1 = flat_y1\n",
    "print (test_set_yc1.shape)\n",
    "\n",
    "costs= model(train_set_xc1, train_set_yc1, test_set_xc1, test_set_yc1,  num_iterations = 5000, learning_rate = 0.0005, print_cost = True)\n"
   ]
  },
  {
   "cell_type": "markdown",
   "metadata": {},
   "source": [
    "**Expected Output**: \n",
    "\n",
    "<table style=\"width:40%\"> \n",
    "    \n",
    "    <tr>\n",
    "        <td> **Train Accuracy**  </td> \n",
    "        <td> 91.25 % </td>\n",
    "    </tr>\n",
    "\n",
    "    <tr>\n",
    "        <td>**Test Accuracy** </td> \n",
    "        <td> 60.0 % </td>\n",
    "    </tr>\n",
    "</table> \n",
    "\n",
    "\n"
   ]
  },
  {
   "cell_type": "markdown",
   "metadata": {},
   "source": [
    "Let's also plot the cost function and the gradients."
   ]
  },
  {
   "cell_type": "code",
   "execution_count": 117,
   "metadata": {},
   "outputs": [
    {
     "name": "stdout",
     "output_type": "stream",
     "text": [
      "Cost after iteration 0: 0.693147\n",
      "Cost after iteration 100: 0.548509\n",
      "Cost after iteration 200: 0.496297\n",
      "Cost after iteration 300: 0.459536\n",
      "Cost after iteration 400: 0.432244\n",
      "Cost after iteration 500: 0.411066\n",
      "Cost after iteration 600: 0.394034\n",
      "Cost after iteration 700: 0.379940\n",
      "Cost after iteration 800: 0.368004\n",
      "Cost after iteration 900: 0.357705\n",
      "Cost after iteration 1000: 0.348679\n",
      "Cost after iteration 1100: 0.340667\n",
      "Cost after iteration 1200: 0.333477\n",
      "Cost after iteration 1300: 0.326965\n",
      "Cost after iteration 1400: 0.321019\n",
      "Cost after iteration 1500: 0.315553\n",
      "Cost after iteration 1600: 0.310498\n",
      "Cost after iteration 1700: 0.305796\n",
      "Cost after iteration 1800: 0.301404\n",
      "Cost after iteration 1900: 0.297283\n",
      "Cost after iteration 2000: 0.293401\n",
      "Cost after iteration 2100: 0.289732\n",
      "Cost after iteration 2200: 0.286254\n",
      "Cost after iteration 2300: 0.282948\n",
      "Cost after iteration 2400: 0.279796\n",
      "Cost after iteration 2500: 0.276785\n",
      "Cost after iteration 2600: 0.273902\n",
      "Cost after iteration 2700: 0.271136\n",
      "Cost after iteration 2800: 0.268477\n",
      "Cost after iteration 2900: 0.265917\n",
      "Cost after iteration 3000: 0.263449\n",
      "Cost after iteration 3100: 0.261066\n",
      "Cost after iteration 3200: 0.258761\n",
      "Cost after iteration 3300: 0.256529\n",
      "Cost after iteration 3400: 0.254366\n",
      "Cost after iteration 3500: 0.252267\n",
      "Cost after iteration 3600: 0.250228\n",
      "Cost after iteration 3700: 0.248245\n",
      "Cost after iteration 3800: 0.246316\n",
      "Cost after iteration 3900: 0.244436\n",
      "Cost after iteration 4000: 0.242604\n",
      "Cost after iteration 4100: 0.240816\n",
      "Cost after iteration 4200: 0.239071\n",
      "Cost after iteration 4300: 0.237366\n",
      "Cost after iteration 4400: 0.235700\n",
      "Cost after iteration 4500: 0.234070\n",
      "Cost after iteration 4600: 0.232474\n",
      "Cost after iteration 4700: 0.230912\n",
      "Cost after iteration 4800: 0.229381\n",
      "Cost after iteration 4900: 0.227881\n",
      "train accuracy: 92.06963249516441 %\n",
      "test accuracy: 87.28323699421965 %\n"
     ]
    },
    {
     "data": {
      "image/png": "[encoded data removed]",
      "text/plain": [
       "<Figure size 432x288 with 1 Axes>"
      ]
     },
     "metadata": {
      "needs_background": "light"
     },
     "output_type": "display_data"
    }
   ],
   "source": [
    "\n",
    "# plot for learning rate = 0.0005 and num_iterations as 5000 ['test set']\n",
    "d = model(train_set_xc1, train_set_yc1, test_set_xc1, test_set_yc1,  num_iterations = 5000, learning_rate = 0.0005, print_cost = True)\n",
    "costs =np.squeeze(d['costs'])\n",
    "plt.plot(costs)\n",
    "plt.ylabel('cost')\n",
    "plt.title(\"Plot 1\")\n",
    "plt.xlabel('Iterations (per hundred)')\n",
    "plt.show()"
   ]
  },
  {
   "cell_type": "markdown",
   "metadata": {},
   "source": [
    "### 5.1 - Setting parameters (part 2)\n",
    "Set the `num_iterations` to 2000 and `learning_rate` to 0.005 and run the model again. Plot the cost function."
   ]
  },
  {
   "cell_type": "code",
   "execution_count": 125,
   "metadata": {},
   "outputs": [
    {
     "name": "stdout",
     "output_type": "stream",
     "text": [
      "Cost after iteration 0: 0.693147\n",
      "Cost after iteration 100: 0.348325\n",
      "Cost after iteration 200: 0.293235\n",
      "Cost after iteration 300: 0.263346\n",
      "Cost after iteration 400: 0.242531\n",
      "Cost after iteration 500: 0.226353\n",
      "Cost after iteration 600: 0.213014\n",
      "Cost after iteration 700: 0.201614\n",
      "Cost after iteration 800: 0.191640\n",
      "Cost after iteration 900: 0.182771\n",
      "Cost after iteration 1000: 0.174791\n",
      "Cost after iteration 1100: 0.167547\n",
      "Cost after iteration 1200: 0.160925\n",
      "Cost after iteration 1300: 0.154839\n",
      "Cost after iteration 1400: 0.149219\n",
      "Cost after iteration 1500: 0.144009\n",
      "Cost after iteration 1600: 0.139162\n",
      "Cost after iteration 1700: 0.134640\n",
      "Cost after iteration 1800: 0.130409\n",
      "Cost after iteration 1900: 0.126441\n",
      "train accuracy: 97.48549323017409 %\n",
      "test accuracy: 89.59537572254335 %\n"
     ]
    },
    {
     "data": {
      "image/png": "[encoded data removed]",
      "text/plain": [
       "<Figure size 432x288 with 1 Axes>"
      ]
     },
     "metadata": {
      "needs_background": "light"
     },
     "output_type": "display_data"
    }
   ],
   "source": [
    "d=model(train_set_xc1, train_set_yc1, test_set_xc1, test_set_yc1,  num_iterations = 2000, learning_rate = 0.005, print_cost = True)\n",
    "costs =np.squeeze(d['costs'])\n",
    "plt.plot(costs)\n",
    "plt.ylabel('cost')\n",
    "plt.title(\"Plot 2\")\n",
    "plt.xlabel('Iterations (per hundred)')\n",
    "plt.show()\n"
   ]
  },
  {
   "cell_type": "code",
   "execution_count": null,
   "metadata": {},
   "outputs": [],
   "source": [
    "\"\"\"\n",
    "Model Accuracy:\n",
    "\n",
    "Model1 Accuracy on dev data is around 92%\n",
    "Model1 Accuracy on test data is around 87%\n",
    "\n",
    "Model2 Accuracy on dev data is around 97%\n",
    "Model2 Accuracy on test data is around 89%\n",
    "\"\"\""
   ]
  },
  {
   "cell_type": "markdown",
   "metadata": {},
   "source": [
    "### 5.3 - Analysis\n",
    "Compare the cost function plots of part_1 and part_2. Write your observation below."
   ]
  },
  {
   "cell_type": "markdown",
   "metadata": {},
   "source": [
    "#### Write Your observation here\n",
    "\n",
    "As we know, in Plot1 the learning rate is 0.0005 and number of iterations are 5000, whereas in Plot2 the learning rate is 0.005 and the number of iterations are 2000. As we can see, the number of iterations are decreased whereas the learning rate is increased from Plot1 to Plot2. If we decrease the learning rate then the cost function approaching the value of global minimum is better. Hence, in plot 1 better valiue of cost function is obtained. Similarly, if we decrease the value of number of iterations, then cost function approching global minnimum is better. From plots we can also see the cost function achieves a lower value in plot 1 smoothly. Hence, from the graph we can infer that a greater number learning iteration and lower value of learning rate is better for cost function. If we increase the complexity for this problem then only higher number of iterations and lower value of learning rate may provide reliable results.\n",
    "Also the accuracy of Model2 is greater than Model1 because due to high number of iterations Model1 tends to overfit the data."
   ]
  },
  {
   "cell_type": "code",
   "execution_count": null,
   "metadata": {},
   "outputs": [],
   "source": []
  }
 ],
 "metadata": {
  "coursera": {
   "course_slug": "neural-networks-deep-learning",
   "graded_item_id": "XaIWT",
   "launcher_item_id": "zAgPl"
  },
  "kernelspec": {
   "display_name": "Python 3",
   "language": "python",
   "name": "python3"
  },
  "language_info": {
   "codemirror_mode": {
    "name": "ipython",
    "version": 3
   },
   "file_extension": ".py",
   "mimetype": "text/x-python",
   "name": "python",
   "nbconvert_exporter": "python",
   "pygments_lexer": "ipython3",
   "version": "3.6.5"
  },
  "widgets": {
   "state": {},
   "version": "1.1.2"
  }
 },
 "nbformat": 4,
 "nbformat_minor": 2
}
